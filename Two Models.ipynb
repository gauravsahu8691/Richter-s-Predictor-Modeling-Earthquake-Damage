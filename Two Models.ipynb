{
 "cells": [
  {
   "cell_type": "code",
   "execution_count": 1,
   "metadata": {},
   "outputs": [],
   "source": [
    "import pandas as pd\n",
    "import numpy as np\n",
    "import seaborn as sns\n",
    "import matplotlib.pyplot as plt\n",
    "from sklearn.preprocessing import StandardScaler, LabelEncoder\n",
    "scaler = StandardScaler()\n",
    "encoder = LabelEncoder()"
   ]
  },
  {
   "cell_type": "code",
   "execution_count": 2,
   "metadata": {},
   "outputs": [],
   "source": [
    "import warnings\n",
    "warnings.filterwarnings('ignore')"
   ]
  },
  {
   "cell_type": "code",
   "execution_count": 3,
   "metadata": {},
   "outputs": [],
   "source": [
    "from sklearn.model_selection import cross_val_score"
   ]
  },
  {
   "cell_type": "code",
   "execution_count": 4,
   "metadata": {},
   "outputs": [],
   "source": [
    "from sklearn.ensemble import RandomForestClassifier\n",
    "random_forest = RandomForestClassifier(n_estimators=150)"
   ]
  },
  {
   "cell_type": "code",
   "execution_count": 5,
   "metadata": {},
   "outputs": [],
   "source": [
    "from sklearn.ensemble import AdaBoostClassifier\n",
    "adaboost = AdaBoostClassifier()"
   ]
  },
  {
   "cell_type": "code",
   "execution_count": 6,
   "metadata": {},
   "outputs": [],
   "source": [
    "from sklearn.linear_model import LogisticRegression\n",
    "logistic_regression = LogisticRegression()"
   ]
  },
  {
   "cell_type": "code",
   "execution_count": 7,
   "metadata": {},
   "outputs": [],
   "source": [
    "from keras.models import Sequential\n",
    "from keras.layers import Dense"
   ]
  },
  {
   "cell_type": "code",
   "execution_count": 8,
   "metadata": {},
   "outputs": [],
   "source": [
    "data = pd.read_csv(\"train_values.csv\").drop(columns=[\"building_id\"])\n",
    "label = pd.read_csv(\"train_labels.csv\")[\"damage_grade\"]\n",
    "\n",
    "test_data = pd.read_csv(\"test_values.csv\")"
   ]
  },
  {
   "cell_type": "code",
   "execution_count": null,
   "metadata": {},
   "outputs": [],
   "source": []
  },
  {
   "cell_type": "markdown",
   "metadata": {},
   "source": [
    "### Special Functions"
   ]
  },
  {
   "cell_type": "code",
   "execution_count": 9,
   "metadata": {},
   "outputs": [],
   "source": [
    "def label_encoder(data):\n",
    "    for feature in data.columns:\n",
    "        if data[feature].dtype == np.object:\n",
    "            data[feature] = encoder.fit_transform(data[feature])\n",
    "    return data"
   ]
  },
  {
   "cell_type": "markdown",
   "metadata": {},
   "source": [
    "### Feature Engineering"
   ]
  },
  {
   "cell_type": "code",
   "execution_count": 10,
   "metadata": {},
   "outputs": [],
   "source": [
    "data[\"count_floors_pre_eq\"] = data[\"count_floors_pre_eq\"].apply(lambda floor: \"4\" if floor >= 4 else str(floor))\n",
    "test_data[\"count_floors_pre_eq\"] = \\\n",
    "                                test_data[\"count_floors_pre_eq\"].apply(lambda floor: \"4\" if floor >= 4 else str(floor))"
   ]
  },
  {
   "cell_type": "code",
   "execution_count": 11,
   "metadata": {},
   "outputs": [],
   "source": [
    "data[\"count_families\"] = data[\"count_families\"].apply(lambda floor: \"4\" if floor >= 4 else str(floor))\n",
    "test_data[\"count_families\"] = \\\n",
    "                            test_data[\"count_families\"].apply(lambda floor: \"4\" if floor >= 4 else str(floor))"
   ]
  },
  {
   "cell_type": "code",
   "execution_count": 12,
   "metadata": {},
   "outputs": [],
   "source": [
    "def new_age_variable(age):\n",
    "    \n",
    "    if (age <= 10):\n",
    "        return 1\n",
    "    elif (age <= 25):\n",
    "        return 2\n",
    "    elif (age <= 50):\n",
    "        return 3\n",
    "    elif (age <= 100):\n",
    "        return 4\n",
    "    else:\n",
    "        return 5\n",
    "    \n",
    "data[\"age\"] = data[\"age\"].apply(new_age_variable)\n",
    "test_data[\"age\"] = test_data[\"age\"].apply(new_age_variable)"
   ]
  },
  {
   "cell_type": "code",
   "execution_count": 13,
   "metadata": {},
   "outputs": [],
   "source": [
    "def new_height_variable(height):\n",
    "    \n",
    "    if (height <= 4):\n",
    "        return 1\n",
    "    elif (height <= 8):\n",
    "        return 2\n",
    "    else:\n",
    "        return 3\n",
    "    \n",
    "data[\"height_percentage\"] = data[\"height_percentage\"].apply(new_height_variable)\n",
    "test_data[\"height_percentage\"] = test_data[\"height_percentage\"].apply(new_height_variable)"
   ]
  },
  {
   "cell_type": "code",
   "execution_count": 14,
   "metadata": {},
   "outputs": [],
   "source": [
    "def new_area_variable(area):\n",
    "    \n",
    "    if (area <= 4):\n",
    "        return 1\n",
    "    elif (area <= 10):\n",
    "        return 2\n",
    "    else:\n",
    "        return 3\n",
    "    \n",
    "data[\"area_percentage\"] = data[\"area_percentage\"].apply(new_area_variable)\n",
    "test_data[\"area_percentage\"] = test_data[\"area_percentage\"].apply(new_area_variable)"
   ]
  },
  {
   "cell_type": "markdown",
   "metadata": {},
   "source": [
    "### Feature Extraction"
   ]
  },
  {
   "cell_type": "code",
   "execution_count": 15,
   "metadata": {},
   "outputs": [],
   "source": [
    "data[\"material_used\"] = data['has_superstructure_adobe_mud'] + data['has_superstructure_mud_mortar_stone'] + \\\n",
    "                        data['has_superstructure_stone_flag'] + data['has_superstructure_cement_mortar_stone'] + \\\n",
    "                        data['has_superstructure_mud_mortar_brick'] + data['has_superstructure_cement_mortar_brick']+\\\n",
    "                        data['has_superstructure_timber'] + data['has_superstructure_bamboo']\n",
    "\n",
    "test_data[\"material_used\"] = test_data['has_superstructure_adobe_mud'] + \\\n",
    "                             test_data['has_superstructure_mud_mortar_stone'] + \\\n",
    "                             test_data['has_superstructure_stone_flag'] + \\\n",
    "                             test_data['has_superstructure_cement_mortar_stone'] + \\\n",
    "                             test_data['has_superstructure_mud_mortar_brick'] + \\\n",
    "                             test_data['has_superstructure_cement_mortar_brick']+\\\n",
    "                             test_data['has_superstructure_timber'] + \\\n",
    "                             test_data['has_superstructure_bamboo']"
   ]
  },
  {
   "cell_type": "markdown",
   "metadata": {},
   "source": [
    "### Feature Preprocessing"
   ]
  },
  {
   "cell_type": "code",
   "execution_count": 16,
   "metadata": {},
   "outputs": [],
   "source": [
    "data = label_encoder(data)\n",
    "test_data = label_encoder(test_data)"
   ]
  },
  {
   "cell_type": "code",
   "execution_count": 17,
   "metadata": {},
   "outputs": [],
   "source": [
    "# random_forest = RandomForestClassifier()\n",
    "# features = [\"geo_level_1_id\", \"geo_level_2_id\", \"count_floors_pre_eq\", \"age\", \"area_percentage\", \"height_percentage\", \\\n",
    "#             \"land_surface_condition\", \"foundation_type\", \"roof_type\", \"ground_floor_type\", \"other_floor_type\", \\\n",
    "#             \"position\", \"plan_configuration\"]\n",
    "# # cross_val_score(random_forest, data[features], label, cv=3)\n",
    "# random_forest.fit(data[features], label)\n",
    "# data[\"new_var\"] = random_forest.predict(data[features])\n",
    "# test_data[\"new_var\"] = random_forest.predict(test_data[features])"
   ]
  },
  {
   "cell_type": "code",
   "execution_count": 18,
   "metadata": {
    "scrolled": true
   },
   "outputs": [
    {
     "data": {
      "text/plain": [
       "Index(['geo_level_1_id', 'geo_level_2_id', 'geo_level_3_id',\n",
       "       'count_floors_pre_eq', 'age', 'area_percentage', 'height_percentage',\n",
       "       'land_surface_condition', 'foundation_type', 'roof_type',\n",
       "       'ground_floor_type', 'other_floor_type', 'position',\n",
       "       'plan_configuration', 'has_superstructure_adobe_mud',\n",
       "       'has_superstructure_mud_mortar_stone', 'has_superstructure_stone_flag',\n",
       "       'has_superstructure_cement_mortar_stone',\n",
       "       'has_superstructure_mud_mortar_brick',\n",
       "       'has_superstructure_cement_mortar_brick', 'has_superstructure_timber',\n",
       "       'has_superstructure_bamboo', 'has_superstructure_rc_non_engineered',\n",
       "       'has_superstructure_rc_engineered', 'has_superstructure_other',\n",
       "       'legal_ownership_status', 'count_families', 'has_secondary_use',\n",
       "       'has_secondary_use_agriculture', 'has_secondary_use_hotel',\n",
       "       'has_secondary_use_rental', 'has_secondary_use_institution',\n",
       "       'has_secondary_use_school', 'has_secondary_use_industry',\n",
       "       'has_secondary_use_health_post', 'has_secondary_use_gov_office',\n",
       "       'has_secondary_use_use_police', 'has_secondary_use_other',\n",
       "       'material_used', 'new_var'],\n",
       "      dtype='object')"
      ]
     },
     "execution_count": 18,
     "metadata": {},
     "output_type": "execute_result"
    }
   ],
   "source": [
    "# data.columns"
   ]
  },
  {
   "cell_type": "markdown",
   "metadata": {},
   "source": [
    "### Model 1"
   ]
  },
  {
   "cell_type": "code",
   "execution_count": 19,
   "metadata": {},
   "outputs": [],
   "source": [
    "# data[\"new_var\"] = data[\"age\"] + data[\"count_floors_pre_eq\"]  "
   ]
  },
  {
   "cell_type": "code",
   "execution_count": 20,
   "metadata": {},
   "outputs": [],
   "source": [
    "# features = [\"new_var\", \"geo_level_1_id\", \"geo_level_2_id\", \"geo_level_3_id\", \"material_used\"]\n",
    "# cross_val_score(random_forest, data[[\"new_var\"]], label, cv=3)"
   ]
  },
  {
   "cell_type": "code",
   "execution_count": 21,
   "metadata": {},
   "outputs": [],
   "source": [
    "from sklearn.metrics import plot_confusion_matrix, f1_score"
   ]
  },
  {
   "cell_type": "code",
   "execution_count": 23,
   "metadata": {},
   "outputs": [
    {
     "name": "stdout",
     "output_type": "stream",
     "text": [
      "0.6438847126450014\n"
     ]
    },
    {
     "data": {
      "image/png": "[encoded data removed]",
      "text/plain": [
       "<Figure size 432x288 with 2 Axes>"
      ]
     },
     "metadata": {
      "needs_background": "light"
     },
     "output_type": "display_data"
    }
   ],
   "source": [
    "features = [\"geo_level_1_id\", \"geo_level_2_id\", \"geo_level_3_id\", \"material_used\"]\n",
    "adaboost.fit(data[features], label)\n",
    "prediction_1 = adaboost.predict(data[features])\n",
    "plot_confusion_matrix(adaboost, data[features], label)\n",
    "print(f1_score(label, prediction_1, average=\"micro\"))\n",
    "# cross_val_score(adaboost, data[features], label, cv=3)\n",
    "# random_forest.fit(data[features], label)\n",
    "# prediction = pd.DataFrame(random_forest.predict(test_data[features]), columns=[\"damage_grade\"])"
   ]
  },
  {
   "cell_type": "code",
   "execution_count": 24,
   "metadata": {},
   "outputs": [
    {
     "name": "stdout",
     "output_type": "stream",
     "text": [
      "0.7544138357105307\n"
     ]
    },
    {
     "data": {
      "image/png": "[encoded data removed]",
      "text/plain": [
       "<Figure size 432x288 with 2 Axes>"
      ]
     },
     "metadata": {
      "needs_background": "light"
     },
     "output_type": "display_data"
    }
   ],
   "source": [
    "features = [\"geo_level_1_id\", \"geo_level_2_id\", \"geo_level_3_id\", \"material_used\"]\n",
    "random_forest.fit(data[features], label)\n",
    "prediction_2 = random_forest.predict(data[features])\n",
    "plot_confusion_matrix(random_forest, data[features], label)\n",
    "print(f1_score(label, prediction_2, average=\"micro\"))\n",
    "# cross_val_score(adaboost, data[features], label, cv=3)\n",
    "# random_forest.fit(data[features], label)\n",
    "# prediction = pd.DataFrame(random_forest.predict(test_data[features]), columns=[\"damage_grade\"])"
   ]
  },
  {
   "cell_type": "code",
   "execution_count": 25,
   "metadata": {},
   "outputs": [
    {
     "name": "stdout",
     "output_type": "stream",
     "text": [
      "0.7081285183095997\n"
     ]
    },
    {
     "data": {
      "image/png": "[encoded data removed]",
      "text/plain": [
       "<Figure size 432x288 with 2 Axes>"
      ]
     },
     "metadata": {
      "needs_background": "light"
     },
     "output_type": "display_data"
    }
   ],
   "source": [
    "random_forest = RandomForestClassifier(class_weight=\"balanced\")\n",
    "features = [\"geo_level_1_id\", \"geo_level_2_id\", \"geo_level_3_id\", \"material_used\"]\n",
    "random_forest.fit(data[features], label)\n",
    "prediction_3 = random_forest.predict(data[features])\n",
    "plot_confusion_matrix(random_forest, data[features], label)\n",
    "print(f1_score(label, prediction_3, average=\"micro\"))\n",
    "# cross_val_score(adaboost, data[features], label, cv=3)\n",
    "# random_forest.fit(data[features], label)\n",
    "# prediction = pd.DataFrame(random_forest.predict(test_data[features]), columns=[\"damage_grade\"])"
   ]
  },
  {
   "cell_type": "code",
   "execution_count": 26,
   "metadata": {},
   "outputs": [],
   "source": [
    "prediction = pd.DataFrame({\"0\" :prediction_1, \"1\" :prediction_2, \"2\" :prediction_3})"
   ]
  },
  {
   "cell_type": "code",
   "execution_count": 44,
   "metadata": {},
   "outputs": [
    {
     "data": {
      "text/plain": [
       "0.7512212155747675"
      ]
     },
     "execution_count": 44,
     "metadata": {},
     "output_type": "execute_result"
    }
   ],
   "source": [
    "f1_score(label, prediction_mode, average=\"micro\")"
   ]
  },
  {
   "cell_type": "code",
   "execution_count": 41,
   "metadata": {},
   "outputs": [],
   "source": [
    "from scipy.stats import mode\n",
    "prediction_mode = mode(np.array(prediction), axis=1)[0]"
   ]
  },
  {
   "cell_type": "code",
   "execution_count": 43,
   "metadata": {},
   "outputs": [
    {
     "data": {
      "text/plain": [
       "array([[3],\n",
       "       [2],\n",
       "       [3],\n",
       "       ...,\n",
       "       [3],\n",
       "       [2],\n",
       "       [3]], dtype=int64)"
      ]
     },
     "execution_count": 43,
     "metadata": {},
     "output_type": "execute_result"
    }
   ],
   "source": [
    "prediction_mode"
   ]
  },
  {
   "cell_type": "code",
   "execution_count": null,
   "metadata": {},
   "outputs": [],
   "source": []
  },
  {
   "cell_type": "code",
   "execution_count": 67,
   "metadata": {},
   "outputs": [],
   "source": [
    "prediction[\"building_id\"] = test_data[\"building_id\"]\n",
    "prediction.set_index(\"building_id\", inplace=True)"
   ]
  },
  {
   "cell_type": "code",
   "execution_count": 68,
   "metadata": {},
   "outputs": [],
   "source": [
    "prediction.to_csv(\"second_prediction_20_10.csv\")"
   ]
  },
  {
   "cell_type": "code",
   "execution_count": 46,
   "metadata": {},
   "outputs": [
    {
     "data": {
      "text/plain": [
       "array([0.72754901, 0.72718063, 0.73056512])"
      ]
     },
     "execution_count": 46,
     "metadata": {},
     "output_type": "execute_result"
    }
   ],
   "source": [
    "features = [\"geo_level_1_id\", \"geo_level_2_id\", \"geo_level_3_id\", \"material_used\", \"new_var\"]\n",
    "cross_val_score(random_forest, data[features], label, cv=3)"
   ]
  },
  {
   "cell_type": "code",
   "execution_count": 106,
   "metadata": {},
   "outputs": [
    {
     "data": {
      "text/plain": [
       "age                                       1.000000\n",
       "new_var                                   0.851280\n",
       "count_floors_pre_eq                       0.265359\n",
       "has_superstructure_mud_mortar_brick       0.224800\n",
       "has_superstructure_adobe_mud              0.189325\n",
       "height_percentage                         0.184176\n",
       "damage_grade                              0.155638\n",
       "has_superstructure_cement_mortar_brick    0.138178\n",
       "position                                  0.106663\n",
       "ground_floor_type                         0.102698\n",
       "has_superstructure_rc_engineered          0.099280\n",
       "foundation_type                           0.098038\n",
       "material_used                             0.088790\n",
       "has_superstructure_rc_non_engineered      0.087874\n",
       "roof_type                                 0.087754\n",
       "legal_ownership_status                    0.084943\n",
       "has_superstructure_mud_mortar_stone       0.058958\n",
       "has_secondary_use_hotel                   0.050830\n",
       "geo_level_1_id                            0.049973\n",
       "has_superstructure_bamboo                 0.048485\n",
       "other_floor_type                          0.042321\n",
       "has_superstructure_cement_mortar_stone    0.040894\n",
       "count_families                            0.040051\n",
       "has_superstructure_timber                 0.034486\n",
       "has_secondary_use                         0.034247\n",
       "geo_level_2_id                            0.031169\n",
       "area_percentage                           0.024928\n",
       "plan_configuration                        0.024323\n",
       "has_secondary_use_rental                  0.023754\n",
       "land_surface_condition                    0.018432\n",
       "has_secondary_use_institution             0.014384\n",
       "has_superstructure_stone_flag             0.010648\n",
       "has_secondary_use_school                  0.010214\n",
       "has_secondary_use_industry                0.007500\n",
       "has_secondary_use_agriculture             0.007455\n",
       "has_secondary_use_health_post             0.005128\n",
       "has_superstructure_other                  0.004838\n",
       "has_secondary_use_gov_office              0.004268\n",
       "geo_level_3_id                            0.003580\n",
       "has_secondary_use_other                   0.003365\n",
       "has_secondary_use_use_police              0.003116\n",
       "Name: age, dtype: float64"
      ]
     },
     "execution_count": 106,
     "metadata": {},
     "output_type": "execute_result"
    }
   ],
   "source": [
    "abs(data.corr()[\"age\"]).sort_values(ascending=False)"
   ]
  },
  {
   "cell_type": "code",
   "execution_count": 30,
   "metadata": {},
   "outputs": [
    {
     "data": {
      "text/plain": [
       "array([0.6947057 , 0.69442942, 0.69590293])"
      ]
     },
     "execution_count": 30,
     "metadata": {},
     "output_type": "execute_result"
    }
   ],
   "source": [
    "random_forest = RandomForestClassifier()\n",
    "features = [\"geo_level_1_id\", \"geo_level_2_id\", \"geo_level_3_id\", \"material_used\", \"age\"]\n",
    "cross_val_score(random_forest, data[features], label, cv=3)"
   ]
  },
  {
   "cell_type": "code",
   "execution_count": 17,
   "metadata": {},
   "outputs": [],
   "source": [
    "features = [\"geo_level_1_id\", \"geo_level_2_id\", \"geo_level_3_id\", \"material_used\"]\n",
    "random_forest.fit(data[features], label)\n",
    "prediction = pd.DataFrame({\"damage_grade\": random_forest.predict(test_data[features])})\n",
    "prediction[\"building_id\"] = test_data[\"building_id\"]\n",
    "prediction.set_index(\"building_id\", inplace=True)"
   ]
  },
  {
   "cell_type": "code",
   "execution_count": 19,
   "metadata": {},
   "outputs": [],
   "source": [
    "prediction.to_csv(\"20_02.csv\")"
   ]
  },
  {
   "cell_type": "markdown",
   "metadata": {},
   "source": [
    "### Model 2"
   ]
  },
  {
   "cell_type": "code",
   "execution_count": 72,
   "metadata": {},
   "outputs": [],
   "source": [
    "# New variable for condition of the house\n",
    "features = [\"count_floors_pre_eq\", \"age\", \"area_percentage\", \"height_percentage\", \"land_surface_condition\", \\\n",
    "           \"foundation_type\", \"roof_type\", \"ground_floor_type\", \"other_floor_type\", \"plan_configuration\"]\n",
    "\n",
    "#random_forest.fit(data[features], label)\n",
    "#prediction_model_2 = random_forest.predict(data[features])\n",
    "# score = cross_val_score(random_forest, data[[\"roof_type\"]], label, cv=3)\n",
    "random_forest = RandomForestClassifier(class_weight=\"balanced\")\n",
    "for feature in features:\n",
    "    random_forest.fit(data[[feature]], label)\n",
    "    data[feature] = random_forest.predict(data[[feature]])"
   ]
  },
  {
   "cell_type": "code",
   "execution_count": 73,
   "metadata": {},
   "outputs": [],
   "source": [
    "score = cross_val_score(random_forest, data[features], label, cv=3)"
   ]
  },
  {
   "cell_type": "code",
   "execution_count": 75,
   "metadata": {},
   "outputs": [
    {
     "data": {
      "text/plain": [
       "array([0.35663716, 0.35693647, 0.35704007])"
      ]
     },
     "execution_count": 75,
     "metadata": {},
     "output_type": "execute_result"
    }
   ],
   "source": [
    "score"
   ]
  },
  {
   "cell_type": "markdown",
   "metadata": {},
   "source": [
    "### Model 3"
   ]
  },
  {
   "cell_type": "code",
   "execution_count": 44,
   "metadata": {},
   "outputs": [],
   "source": [
    "features = [\"geo_level_1_id\", \"geo_level_2_id\", \"geo_level_3_id\", \"material_used\"]\n",
    "logistic_regression.fit(data[features], label)\n",
    "prediction_model_3 = logistic_regression.predict(data[features])"
   ]
  },
  {
   "cell_type": "code",
   "execution_count": null,
   "metadata": {},
   "outputs": [],
   "source": []
  },
  {
   "cell_type": "markdown",
   "metadata": {},
   "source": [
    "### Model 4"
   ]
  },
  {
   "cell_type": "code",
   "execution_count": 45,
   "metadata": {},
   "outputs": [],
   "source": [
    "features = [\"geo_level_1_id\", \"geo_level_2_id\", \"geo_level_3_id\", \"material_used\"]\n",
    "adaboost.fit(data[features], label)\n",
    "prediction_model_4 = adaboost.predict(data[features])"
   ]
  },
  {
   "cell_type": "code",
   "execution_count": null,
   "metadata": {},
   "outputs": [],
   "source": []
  },
  {
   "cell_type": "markdown",
   "metadata": {},
   "source": [
    "### Ensemble using Logistic Regression"
   ]
  },
  {
   "cell_type": "code",
   "execution_count": 46,
   "metadata": {},
   "outputs": [],
   "source": [
    "prediction = pd.DataFrame({\"Prediction 1\": prediction_model_1, \"Prediction 2\": prediction_model_2, \\\n",
    "                          \"Prediction 3\": prediction_model_3, \"Prediction 4\": prediction_model_4})"
   ]
  },
  {
   "cell_type": "code",
   "execution_count": 47,
   "metadata": {},
   "outputs": [],
   "source": [
    "score = cross_val_score(random_forest, prediction[[\"Prediction 1\", \"Prediction 3\", \"Prediction 4\"]], label, cv=3)"
   ]
  },
  {
   "cell_type": "code",
   "execution_count": 48,
   "metadata": {},
   "outputs": [
    {
     "data": {
      "text/plain": [
       "0.7544138357105307"
      ]
     },
     "execution_count": 48,
     "metadata": {},
     "output_type": "execute_result"
    }
   ],
   "source": [
    "np.array(score).mean()"
   ]
  },
  {
   "cell_type": "code",
   "execution_count": 28,
   "metadata": {},
   "outputs": [
    {
     "data": {
      "text/plain": [
       "0.7544099984267136"
      ]
     },
     "execution_count": 28,
     "metadata": {},
     "output_type": "execute_result"
    }
   ],
   "source": [
    "np.array(score).mean()"
   ]
  },
  {
   "cell_type": "code",
   "execution_count": 31,
   "metadata": {},
   "outputs": [
    {
     "data": {
      "text/plain": [
       "0.7547783776731478"
      ]
     },
     "execution_count": 31,
     "metadata": {},
     "output_type": "execute_result"
    }
   ],
   "source": [
    "np.array(score).mean()"
   ]
  },
  {
   "cell_type": "code",
   "execution_count": 29,
   "metadata": {},
   "outputs": [
    {
     "data": {
      "text/plain": [
       "0.7552158280282883"
      ]
     },
     "execution_count": 29,
     "metadata": {},
     "output_type": "execute_result"
    }
   ],
   "source": [
    "np.array(score).mean()"
   ]
  },
  {
   "cell_type": "code",
   "execution_count": null,
   "metadata": {},
   "outputs": [],
   "source": []
  },
  {
   "cell_type": "code",
   "execution_count": null,
   "metadata": {},
   "outputs": [],
   "source": []
  },
  {
   "cell_type": "code",
   "execution_count": null,
   "metadata": {},
   "outputs": [],
   "source": []
  },
  {
   "cell_type": "code",
   "execution_count": null,
   "metadata": {},
   "outputs": [],
   "source": []
  },
  {
   "cell_type": "code",
   "execution_count": null,
   "metadata": {},
   "outputs": [],
   "source": []
  },
  {
   "cell_type": "code",
   "execution_count": null,
   "metadata": {},
   "outputs": [],
   "source": []
  },
  {
   "cell_type": "code",
   "execution_count": null,
   "metadata": {},
   "outputs": [],
   "source": []
  },
  {
   "cell_type": "code",
   "execution_count": null,
   "metadata": {},
   "outputs": [],
   "source": []
  },
  {
   "cell_type": "code",
   "execution_count": null,
   "metadata": {},
   "outputs": [],
   "source": []
  }
 ],
 "metadata": {
  "kernelspec": {
   "display_name": "Python 3",
   "language": "python",
   "name": "python3"
  },
  "language_info": {
   "codemirror_mode": {
    "name": "ipython",
    "version": 3
   },
   "file_extension": ".py",
   "mimetype": "text/x-python",
   "name": "python",
   "nbconvert_exporter": "python",
   "pygments_lexer": "ipython3",
   "version": "3.8.3"
  }
 },
 "nbformat": 4,
 "nbformat_minor": 4
}
